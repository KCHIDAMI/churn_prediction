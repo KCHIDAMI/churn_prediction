{
  "nbformat": 4,
  "nbformat_minor": 0,
  "metadata": {
    "colab": {
      "name": "Untitled20.ipynb",
      "provenance": [],
      "collapsed_sections": []
    },
    "kernelspec": {
      "name": "python3",
      "display_name": "Python 3"
    },
    "language_info": {
      "name": "python"
    }
  },
  "cells": [
    {
      "cell_type": "code",
      "metadata": {
        "id": "hXx8dYsoZNrl"
      },
      "source": [
        "# importing the required libraries\n",
        "import numpy as np\n",
        "import pandas as pd\n",
        "import matplotlib.pyplot as plt\n",
        "% matplotlib inline\n",
        "import seaborn as sns"
      ],
      "execution_count": 2,
      "outputs": []
    },
    {
      "cell_type": "markdown",
      "metadata": {
        "id": "EIagqhz7mq-2"
      },
      "source": [
        "## Loading the data From Kaggle"
      ]
    },
    {
      "cell_type": "code",
      "metadata": {
        "colab": {
          "base_uri": "https://localhost:8080/"
        },
        "id": "UHpg7vdWbd8z",
        "outputId": "21151abc-b9c5-4c8f-834c-67d3e7c83e7c"
      },
      "source": [
        "# first let's install opendatasets, a library used for downloading open datasets from platforms such as Kaggle.\n",
        "!pip install opendatasets"
      ],
      "execution_count": 3,
      "outputs": [
        {
          "output_type": "stream",
          "name": "stdout",
          "text": [
            "Collecting opendatasets\n",
            "  Downloading opendatasets-0.1.20-py3-none-any.whl (14 kB)\n",
            "Requirement already satisfied: tqdm in /usr/local/lib/python3.7/dist-packages (from opendatasets) (4.62.3)\n",
            "Requirement already satisfied: kaggle in /usr/local/lib/python3.7/dist-packages (from opendatasets) (1.5.12)\n",
            "Requirement already satisfied: click in /usr/local/lib/python3.7/dist-packages (from opendatasets) (7.1.2)\n",
            "Requirement already satisfied: six>=1.10 in /usr/local/lib/python3.7/dist-packages (from kaggle->opendatasets) (1.15.0)\n",
            "Requirement already satisfied: urllib3 in /usr/local/lib/python3.7/dist-packages (from kaggle->opendatasets) (1.24.3)\n",
            "Requirement already satisfied: certifi in /usr/local/lib/python3.7/dist-packages (from kaggle->opendatasets) (2021.10.8)\n",
            "Requirement already satisfied: requests in /usr/local/lib/python3.7/dist-packages (from kaggle->opendatasets) (2.23.0)\n",
            "Requirement already satisfied: python-dateutil in /usr/local/lib/python3.7/dist-packages (from kaggle->opendatasets) (2.8.2)\n",
            "Requirement already satisfied: python-slugify in /usr/local/lib/python3.7/dist-packages (from kaggle->opendatasets) (5.0.2)\n",
            "Requirement already satisfied: text-unidecode>=1.3 in /usr/local/lib/python3.7/dist-packages (from python-slugify->kaggle->opendatasets) (1.3)\n",
            "Requirement already satisfied: idna<3,>=2.5 in /usr/local/lib/python3.7/dist-packages (from requests->kaggle->opendatasets) (2.10)\n",
            "Requirement already satisfied: chardet<4,>=3.0.2 in /usr/local/lib/python3.7/dist-packages (from requests->kaggle->opendatasets) (3.0.4)\n",
            "Installing collected packages: opendatasets\n",
            "Successfully installed opendatasets-0.1.20\n"
          ]
        }
      ]
    },
    {
      "cell_type": "code",
      "metadata": {
        "id": "_MMEwCJXcBMd"
      },
      "source": [
        "# importing the opendatasets library\n",
        "import opendatasets as od"
      ],
      "execution_count": 4,
      "outputs": []
    },
    {
      "cell_type": "code",
      "metadata": {
        "colab": {
          "base_uri": "https://localhost:8080/"
        },
        "id": "tF7o_5j3mi4q",
        "outputId": "efe0fe9d-157c-4460-a239-f16c997f44a9"
      },
      "source": [
        "# now we can download the dataset from kaggle using the download_kaggle_dataset method\n",
        "# for this we need also to enter the username and the kaggle key (you will need to go to the account tab of the My Profile section and click\n",
        "# on Create New API Token. This will download a kaggle.json file. Open the file and you will find your username and the key)\n",
        "od.download_kaggle_dataset('https://www.kaggle.com/shubh0799/churn-modelling',data_dir='churn_modelling')"
      ],
      "execution_count": 5,
      "outputs": [
        {
          "output_type": "stream",
          "name": "stdout",
          "text": [
            "Please provide your Kaggle credentials to download this dataset. Learn more: http://bit.ly/kaggle-creds\n",
            "Your Kaggle username: chidamikarim6\n",
            "Your Kaggle Key: ··········\n",
            "Downloading churn-modelling.zip to churn_modelling/churn-modelling\n"
          ]
        },
        {
          "output_type": "stream",
          "name": "stderr",
          "text": [
            "100%|██████████| 262k/262k [00:00<00:00, 47.2MB/s]"
          ]
        },
        {
          "output_type": "stream",
          "name": "stdout",
          "text": [
            "\n"
          ]
        },
        {
          "output_type": "stream",
          "name": "stderr",
          "text": [
            "\n"
          ]
        }
      ]
    },
    {
      "cell_type": "code",
      "metadata": {
        "id": "nQiMaY6-stz9"
      },
      "source": [
        "df = pd.read_csv('churn_modelling/churn-modelling/Churn_Modelling.csv')"
      ],
      "execution_count": 6,
      "outputs": []
    },
    {
      "cell_type": "code",
      "metadata": {
        "colab": {
          "base_uri": "https://localhost:8080/",
          "height": 224
        },
        "id": "hu6FPGVqZXLX",
        "outputId": "a1585369-c50b-41d7-db22-1764b3ee6d44"
      },
      "source": [
        "# let see what the dataset looks like\n",
        "df.head()"
      ],
      "execution_count": 7,
      "outputs": [
        {
          "output_type": "execute_result",
          "data": {
            "text/html": [
              "<div>\n",
              "<style scoped>\n",
              "    .dataframe tbody tr th:only-of-type {\n",
              "        vertical-align: middle;\n",
              "    }\n",
              "\n",
              "    .dataframe tbody tr th {\n",
              "        vertical-align: top;\n",
              "    }\n",
              "\n",
              "    .dataframe thead th {\n",
              "        text-align: right;\n",
              "    }\n",
              "</style>\n",
              "<table border=\"1\" class=\"dataframe\">\n",
              "  <thead>\n",
              "    <tr style=\"text-align: right;\">\n",
              "      <th></th>\n",
              "      <th>RowNumber</th>\n",
              "      <th>CustomerId</th>\n",
              "      <th>Surname</th>\n",
              "      <th>CreditScore</th>\n",
              "      <th>Geography</th>\n",
              "      <th>Gender</th>\n",
              "      <th>Age</th>\n",
              "      <th>Tenure</th>\n",
              "      <th>Balance</th>\n",
              "      <th>NumOfProducts</th>\n",
              "      <th>HasCrCard</th>\n",
              "      <th>IsActiveMember</th>\n",
              "      <th>EstimatedSalary</th>\n",
              "      <th>Exited</th>\n",
              "    </tr>\n",
              "  </thead>\n",
              "  <tbody>\n",
              "    <tr>\n",
              "      <th>0</th>\n",
              "      <td>1</td>\n",
              "      <td>15634602</td>\n",
              "      <td>Hargrave</td>\n",
              "      <td>619</td>\n",
              "      <td>France</td>\n",
              "      <td>Female</td>\n",
              "      <td>42</td>\n",
              "      <td>2</td>\n",
              "      <td>0.00</td>\n",
              "      <td>1</td>\n",
              "      <td>1</td>\n",
              "      <td>1</td>\n",
              "      <td>101348.88</td>\n",
              "      <td>1</td>\n",
              "    </tr>\n",
              "    <tr>\n",
              "      <th>1</th>\n",
              "      <td>2</td>\n",
              "      <td>15647311</td>\n",
              "      <td>Hill</td>\n",
              "      <td>608</td>\n",
              "      <td>Spain</td>\n",
              "      <td>Female</td>\n",
              "      <td>41</td>\n",
              "      <td>1</td>\n",
              "      <td>83807.86</td>\n",
              "      <td>1</td>\n",
              "      <td>0</td>\n",
              "      <td>1</td>\n",
              "      <td>112542.58</td>\n",
              "      <td>0</td>\n",
              "    </tr>\n",
              "    <tr>\n",
              "      <th>2</th>\n",
              "      <td>3</td>\n",
              "      <td>15619304</td>\n",
              "      <td>Onio</td>\n",
              "      <td>502</td>\n",
              "      <td>France</td>\n",
              "      <td>Female</td>\n",
              "      <td>42</td>\n",
              "      <td>8</td>\n",
              "      <td>159660.80</td>\n",
              "      <td>3</td>\n",
              "      <td>1</td>\n",
              "      <td>0</td>\n",
              "      <td>113931.57</td>\n",
              "      <td>1</td>\n",
              "    </tr>\n",
              "    <tr>\n",
              "      <th>3</th>\n",
              "      <td>4</td>\n",
              "      <td>15701354</td>\n",
              "      <td>Boni</td>\n",
              "      <td>699</td>\n",
              "      <td>France</td>\n",
              "      <td>Female</td>\n",
              "      <td>39</td>\n",
              "      <td>1</td>\n",
              "      <td>0.00</td>\n",
              "      <td>2</td>\n",
              "      <td>0</td>\n",
              "      <td>0</td>\n",
              "      <td>93826.63</td>\n",
              "      <td>0</td>\n",
              "    </tr>\n",
              "    <tr>\n",
              "      <th>4</th>\n",
              "      <td>5</td>\n",
              "      <td>15737888</td>\n",
              "      <td>Mitchell</td>\n",
              "      <td>850</td>\n",
              "      <td>Spain</td>\n",
              "      <td>Female</td>\n",
              "      <td>43</td>\n",
              "      <td>2</td>\n",
              "      <td>125510.82</td>\n",
              "      <td>1</td>\n",
              "      <td>1</td>\n",
              "      <td>1</td>\n",
              "      <td>79084.10</td>\n",
              "      <td>0</td>\n",
              "    </tr>\n",
              "  </tbody>\n",
              "</table>\n",
              "</div>"
            ],
            "text/plain": [
              "   RowNumber  CustomerId   Surname  ...  IsActiveMember EstimatedSalary Exited\n",
              "0          1    15634602  Hargrave  ...               1       101348.88      1\n",
              "1          2    15647311      Hill  ...               1       112542.58      0\n",
              "2          3    15619304      Onio  ...               0       113931.57      1\n",
              "3          4    15701354      Boni  ...               0        93826.63      0\n",
              "4          5    15737888  Mitchell  ...               1        79084.10      0\n",
              "\n",
              "[5 rows x 14 columns]"
            ]
          },
          "metadata": {},
          "execution_count": 7
        }
      ]
    },
    {
      "cell_type": "code",
      "metadata": {
        "colab": {
          "base_uri": "https://localhost:8080/"
        },
        "id": "a6mNfZkiaSv7",
        "outputId": "548f85b1-93ae-44f9-e09d-9c12363099fd"
      },
      "source": [
        "# checking the size \n",
        "print(f'there are {df.shape[0]} rows and {df.shape[1]} columns')"
      ],
      "execution_count": 8,
      "outputs": [
        {
          "output_type": "stream",
          "name": "stdout",
          "text": [
            "there are 10000 rows and 14 columns\n"
          ]
        }
      ]
    },
    {
      "cell_type": "markdown",
      "metadata": {
        "id": "LTy0mhSqm1eF"
      },
      "source": [
        "# EDA & PREPROCESSING"
      ]
    },
    {
      "cell_type": "code",
      "metadata": {
        "colab": {
          "base_uri": "https://localhost:8080/",
          "height": 410
        },
        "id": "O3iyw08buHL_",
        "outputId": "7a605817-fff2-4d3b-9789-bb6a06710353"
      },
      "source": [
        "# checking the numerical columns\n",
        "df.describe(include='all')"
      ],
      "execution_count": 9,
      "outputs": [
        {
          "output_type": "execute_result",
          "data": {
            "text/html": [
              "<div>\n",
              "<style scoped>\n",
              "    .dataframe tbody tr th:only-of-type {\n",
              "        vertical-align: middle;\n",
              "    }\n",
              "\n",
              "    .dataframe tbody tr th {\n",
              "        vertical-align: top;\n",
              "    }\n",
              "\n",
              "    .dataframe thead th {\n",
              "        text-align: right;\n",
              "    }\n",
              "</style>\n",
              "<table border=\"1\" class=\"dataframe\">\n",
              "  <thead>\n",
              "    <tr style=\"text-align: right;\">\n",
              "      <th></th>\n",
              "      <th>RowNumber</th>\n",
              "      <th>CustomerId</th>\n",
              "      <th>Surname</th>\n",
              "      <th>CreditScore</th>\n",
              "      <th>Geography</th>\n",
              "      <th>Gender</th>\n",
              "      <th>Age</th>\n",
              "      <th>Tenure</th>\n",
              "      <th>Balance</th>\n",
              "      <th>NumOfProducts</th>\n",
              "      <th>HasCrCard</th>\n",
              "      <th>IsActiveMember</th>\n",
              "      <th>EstimatedSalary</th>\n",
              "      <th>Exited</th>\n",
              "    </tr>\n",
              "  </thead>\n",
              "  <tbody>\n",
              "    <tr>\n",
              "      <th>count</th>\n",
              "      <td>10000.00000</td>\n",
              "      <td>1.000000e+04</td>\n",
              "      <td>10000</td>\n",
              "      <td>10000.000000</td>\n",
              "      <td>10000</td>\n",
              "      <td>10000</td>\n",
              "      <td>10000.000000</td>\n",
              "      <td>10000.000000</td>\n",
              "      <td>10000.000000</td>\n",
              "      <td>10000.000000</td>\n",
              "      <td>10000.00000</td>\n",
              "      <td>10000.000000</td>\n",
              "      <td>10000.000000</td>\n",
              "      <td>10000.000000</td>\n",
              "    </tr>\n",
              "    <tr>\n",
              "      <th>unique</th>\n",
              "      <td>NaN</td>\n",
              "      <td>NaN</td>\n",
              "      <td>2932</td>\n",
              "      <td>NaN</td>\n",
              "      <td>3</td>\n",
              "      <td>2</td>\n",
              "      <td>NaN</td>\n",
              "      <td>NaN</td>\n",
              "      <td>NaN</td>\n",
              "      <td>NaN</td>\n",
              "      <td>NaN</td>\n",
              "      <td>NaN</td>\n",
              "      <td>NaN</td>\n",
              "      <td>NaN</td>\n",
              "    </tr>\n",
              "    <tr>\n",
              "      <th>top</th>\n",
              "      <td>NaN</td>\n",
              "      <td>NaN</td>\n",
              "      <td>Smith</td>\n",
              "      <td>NaN</td>\n",
              "      <td>France</td>\n",
              "      <td>Male</td>\n",
              "      <td>NaN</td>\n",
              "      <td>NaN</td>\n",
              "      <td>NaN</td>\n",
              "      <td>NaN</td>\n",
              "      <td>NaN</td>\n",
              "      <td>NaN</td>\n",
              "      <td>NaN</td>\n",
              "      <td>NaN</td>\n",
              "    </tr>\n",
              "    <tr>\n",
              "      <th>freq</th>\n",
              "      <td>NaN</td>\n",
              "      <td>NaN</td>\n",
              "      <td>32</td>\n",
              "      <td>NaN</td>\n",
              "      <td>5014</td>\n",
              "      <td>5457</td>\n",
              "      <td>NaN</td>\n",
              "      <td>NaN</td>\n",
              "      <td>NaN</td>\n",
              "      <td>NaN</td>\n",
              "      <td>NaN</td>\n",
              "      <td>NaN</td>\n",
              "      <td>NaN</td>\n",
              "      <td>NaN</td>\n",
              "    </tr>\n",
              "    <tr>\n",
              "      <th>mean</th>\n",
              "      <td>5000.50000</td>\n",
              "      <td>1.569094e+07</td>\n",
              "      <td>NaN</td>\n",
              "      <td>650.528800</td>\n",
              "      <td>NaN</td>\n",
              "      <td>NaN</td>\n",
              "      <td>38.921800</td>\n",
              "      <td>5.012800</td>\n",
              "      <td>76485.889288</td>\n",
              "      <td>1.530200</td>\n",
              "      <td>0.70550</td>\n",
              "      <td>0.515100</td>\n",
              "      <td>100090.239881</td>\n",
              "      <td>0.203700</td>\n",
              "    </tr>\n",
              "    <tr>\n",
              "      <th>std</th>\n",
              "      <td>2886.89568</td>\n",
              "      <td>7.193619e+04</td>\n",
              "      <td>NaN</td>\n",
              "      <td>96.653299</td>\n",
              "      <td>NaN</td>\n",
              "      <td>NaN</td>\n",
              "      <td>10.487806</td>\n",
              "      <td>2.892174</td>\n",
              "      <td>62397.405202</td>\n",
              "      <td>0.581654</td>\n",
              "      <td>0.45584</td>\n",
              "      <td>0.499797</td>\n",
              "      <td>57510.492818</td>\n",
              "      <td>0.402769</td>\n",
              "    </tr>\n",
              "    <tr>\n",
              "      <th>min</th>\n",
              "      <td>1.00000</td>\n",
              "      <td>1.556570e+07</td>\n",
              "      <td>NaN</td>\n",
              "      <td>350.000000</td>\n",
              "      <td>NaN</td>\n",
              "      <td>NaN</td>\n",
              "      <td>18.000000</td>\n",
              "      <td>0.000000</td>\n",
              "      <td>0.000000</td>\n",
              "      <td>1.000000</td>\n",
              "      <td>0.00000</td>\n",
              "      <td>0.000000</td>\n",
              "      <td>11.580000</td>\n",
              "      <td>0.000000</td>\n",
              "    </tr>\n",
              "    <tr>\n",
              "      <th>25%</th>\n",
              "      <td>2500.75000</td>\n",
              "      <td>1.562853e+07</td>\n",
              "      <td>NaN</td>\n",
              "      <td>584.000000</td>\n",
              "      <td>NaN</td>\n",
              "      <td>NaN</td>\n",
              "      <td>32.000000</td>\n",
              "      <td>3.000000</td>\n",
              "      <td>0.000000</td>\n",
              "      <td>1.000000</td>\n",
              "      <td>0.00000</td>\n",
              "      <td>0.000000</td>\n",
              "      <td>51002.110000</td>\n",
              "      <td>0.000000</td>\n",
              "    </tr>\n",
              "    <tr>\n",
              "      <th>50%</th>\n",
              "      <td>5000.50000</td>\n",
              "      <td>1.569074e+07</td>\n",
              "      <td>NaN</td>\n",
              "      <td>652.000000</td>\n",
              "      <td>NaN</td>\n",
              "      <td>NaN</td>\n",
              "      <td>37.000000</td>\n",
              "      <td>5.000000</td>\n",
              "      <td>97198.540000</td>\n",
              "      <td>1.000000</td>\n",
              "      <td>1.00000</td>\n",
              "      <td>1.000000</td>\n",
              "      <td>100193.915000</td>\n",
              "      <td>0.000000</td>\n",
              "    </tr>\n",
              "    <tr>\n",
              "      <th>75%</th>\n",
              "      <td>7500.25000</td>\n",
              "      <td>1.575323e+07</td>\n",
              "      <td>NaN</td>\n",
              "      <td>718.000000</td>\n",
              "      <td>NaN</td>\n",
              "      <td>NaN</td>\n",
              "      <td>44.000000</td>\n",
              "      <td>7.000000</td>\n",
              "      <td>127644.240000</td>\n",
              "      <td>2.000000</td>\n",
              "      <td>1.00000</td>\n",
              "      <td>1.000000</td>\n",
              "      <td>149388.247500</td>\n",
              "      <td>0.000000</td>\n",
              "    </tr>\n",
              "    <tr>\n",
              "      <th>max</th>\n",
              "      <td>10000.00000</td>\n",
              "      <td>1.581569e+07</td>\n",
              "      <td>NaN</td>\n",
              "      <td>850.000000</td>\n",
              "      <td>NaN</td>\n",
              "      <td>NaN</td>\n",
              "      <td>92.000000</td>\n",
              "      <td>10.000000</td>\n",
              "      <td>250898.090000</td>\n",
              "      <td>4.000000</td>\n",
              "      <td>1.00000</td>\n",
              "      <td>1.000000</td>\n",
              "      <td>199992.480000</td>\n",
              "      <td>1.000000</td>\n",
              "    </tr>\n",
              "  </tbody>\n",
              "</table>\n",
              "</div>"
            ],
            "text/plain": [
              "          RowNumber    CustomerId  ... EstimatedSalary        Exited\n",
              "count   10000.00000  1.000000e+04  ...    10000.000000  10000.000000\n",
              "unique          NaN           NaN  ...             NaN           NaN\n",
              "top             NaN           NaN  ...             NaN           NaN\n",
              "freq            NaN           NaN  ...             NaN           NaN\n",
              "mean     5000.50000  1.569094e+07  ...   100090.239881      0.203700\n",
              "std      2886.89568  7.193619e+04  ...    57510.492818      0.402769\n",
              "min         1.00000  1.556570e+07  ...       11.580000      0.000000\n",
              "25%      2500.75000  1.562853e+07  ...    51002.110000      0.000000\n",
              "50%      5000.50000  1.569074e+07  ...   100193.915000      0.000000\n",
              "75%      7500.25000  1.575323e+07  ...   149388.247500      0.000000\n",
              "max     10000.00000  1.581569e+07  ...   199992.480000      1.000000\n",
              "\n",
              "[11 rows x 14 columns]"
            ]
          },
          "metadata": {},
          "execution_count": 9
        }
      ]
    },
    {
      "cell_type": "code",
      "metadata": {
        "colab": {
          "base_uri": "https://localhost:8080/"
        },
        "id": "JLzEuyHp2U3X",
        "outputId": "6a79d26c-9449-4500-e6a2-f9eee59123ab"
      },
      "source": [
        "df['Geography'].value_counts()"
      ],
      "execution_count": 10,
      "outputs": [
        {
          "output_type": "execute_result",
          "data": {
            "text/plain": [
              "France     5014\n",
              "Germany    2509\n",
              "Spain      2477\n",
              "Name: Geography, dtype: int64"
            ]
          },
          "metadata": {},
          "execution_count": 10
        }
      ]
    },
    {
      "cell_type": "markdown",
      "metadata": {
        "id": "-LGKJgZdw154"
      },
      "source": [
        "*   we are dealing with 3 different countries but France appears in approximatively 50% of the records (5,014 over 10,000)\n",
        "*   data is imbalanced, the mean of Exited is 0.2037 which means that 20% of the customers have exited and 80% haven't, so we will have to deal with this issue by oversampling otherwise the model we are going to build will be very bad at predicting the minority class.(we have just 10,000 records which means that if we undersample we would have 4,000 records left for 12 features. we might loose the underlying relations between the different features)\n",
        "\n"
      ]
    },
    {
      "cell_type": "code",
      "metadata": {
        "colab": {
          "base_uri": "https://localhost:8080/"
        },
        "id": "_Eun9V23wXws",
        "outputId": "7c590b95-a3c6-4b2f-ebc6-728f098a0762"
      },
      "source": [
        "# checking for missing values\n",
        "df.isna().sum()"
      ],
      "execution_count": 11,
      "outputs": [
        {
          "output_type": "execute_result",
          "data": {
            "text/plain": [
              "RowNumber          0\n",
              "CustomerId         0\n",
              "Surname            0\n",
              "CreditScore        0\n",
              "Geography          0\n",
              "Gender             0\n",
              "Age                0\n",
              "Tenure             0\n",
              "Balance            0\n",
              "NumOfProducts      0\n",
              "HasCrCard          0\n",
              "IsActiveMember     0\n",
              "EstimatedSalary    0\n",
              "Exited             0\n",
              "dtype: int64"
            ]
          },
          "metadata": {},
          "execution_count": 11
        }
      ]
    },
    {
      "cell_type": "markdown",
      "metadata": {
        "id": "KC1sh0hhys5R"
      },
      "source": [
        "good, no missing values"
      ]
    },
    {
      "cell_type": "code",
      "metadata": {
        "colab": {
          "base_uri": "https://localhost:8080/"
        },
        "id": "t4TrvZTvynRD",
        "outputId": "20405434-3eca-48d7-a632-e4d0ef3b843c"
      },
      "source": [
        "# checking for duplicated rows\n",
        "len(df[df.duplicated()==True])"
      ],
      "execution_count": 12,
      "outputs": [
        {
          "output_type": "execute_result",
          "data": {
            "text/plain": [
              "0"
            ]
          },
          "metadata": {},
          "execution_count": 12
        }
      ]
    },
    {
      "cell_type": "markdown",
      "metadata": {
        "id": "aEZ-xgePzfbt"
      },
      "source": [
        "no duplicated rows"
      ]
    },
    {
      "cell_type": "code",
      "metadata": {
        "colab": {
          "base_uri": "https://localhost:8080/"
        },
        "id": "cQGsEGXdzk2E",
        "outputId": "a113a086-3043-4739-d3bd-d79d00462e02"
      },
      "source": [
        "# let's check also that we don't have a duplicated Customer ID\n",
        "df['CustomerId'].nunique()"
      ],
      "execution_count": 13,
      "outputs": [
        {
          "output_type": "execute_result",
          "data": {
            "text/plain": [
              "10000"
            ]
          },
          "metadata": {},
          "execution_count": 13
        }
      ]
    },
    {
      "cell_type": "markdown",
      "metadata": {
        "id": "n0WaxcO43TbR"
      },
      "source": [
        "good ! as many different ids as number of rows "
      ]
    },
    {
      "cell_type": "code",
      "metadata": {
        "id": "vDM3E_nAzVlI"
      },
      "source": [
        "#  let's drop the non relevant columns: Rownumber, CustomerId and Surname\n",
        "df_1 = df.drop(['RowNumber','CustomerId','Surname'],axis=1)"
      ],
      "execution_count": 14,
      "outputs": []
    },
    {
      "cell_type": "code",
      "metadata": {
        "colab": {
          "base_uri": "https://localhost:8080/",
          "height": 204
        },
        "id": "IH4XG7m8TBo3",
        "outputId": "0d1840b0-7c43-477d-ecc2-6cae4e6d7eb6"
      },
      "source": [
        "df_1.head()"
      ],
      "execution_count": 15,
      "outputs": [
        {
          "output_type": "execute_result",
          "data": {
            "text/html": [
              "<div>\n",
              "<style scoped>\n",
              "    .dataframe tbody tr th:only-of-type {\n",
              "        vertical-align: middle;\n",
              "    }\n",
              "\n",
              "    .dataframe tbody tr th {\n",
              "        vertical-align: top;\n",
              "    }\n",
              "\n",
              "    .dataframe thead th {\n",
              "        text-align: right;\n",
              "    }\n",
              "</style>\n",
              "<table border=\"1\" class=\"dataframe\">\n",
              "  <thead>\n",
              "    <tr style=\"text-align: right;\">\n",
              "      <th></th>\n",
              "      <th>CreditScore</th>\n",
              "      <th>Geography</th>\n",
              "      <th>Gender</th>\n",
              "      <th>Age</th>\n",
              "      <th>Tenure</th>\n",
              "      <th>Balance</th>\n",
              "      <th>NumOfProducts</th>\n",
              "      <th>HasCrCard</th>\n",
              "      <th>IsActiveMember</th>\n",
              "      <th>EstimatedSalary</th>\n",
              "      <th>Exited</th>\n",
              "    </tr>\n",
              "  </thead>\n",
              "  <tbody>\n",
              "    <tr>\n",
              "      <th>0</th>\n",
              "      <td>619</td>\n",
              "      <td>France</td>\n",
              "      <td>Female</td>\n",
              "      <td>42</td>\n",
              "      <td>2</td>\n",
              "      <td>0.00</td>\n",
              "      <td>1</td>\n",
              "      <td>1</td>\n",
              "      <td>1</td>\n",
              "      <td>101348.88</td>\n",
              "      <td>1</td>\n",
              "    </tr>\n",
              "    <tr>\n",
              "      <th>1</th>\n",
              "      <td>608</td>\n",
              "      <td>Spain</td>\n",
              "      <td>Female</td>\n",
              "      <td>41</td>\n",
              "      <td>1</td>\n",
              "      <td>83807.86</td>\n",
              "      <td>1</td>\n",
              "      <td>0</td>\n",
              "      <td>1</td>\n",
              "      <td>112542.58</td>\n",
              "      <td>0</td>\n",
              "    </tr>\n",
              "    <tr>\n",
              "      <th>2</th>\n",
              "      <td>502</td>\n",
              "      <td>France</td>\n",
              "      <td>Female</td>\n",
              "      <td>42</td>\n",
              "      <td>8</td>\n",
              "      <td>159660.80</td>\n",
              "      <td>3</td>\n",
              "      <td>1</td>\n",
              "      <td>0</td>\n",
              "      <td>113931.57</td>\n",
              "      <td>1</td>\n",
              "    </tr>\n",
              "    <tr>\n",
              "      <th>3</th>\n",
              "      <td>699</td>\n",
              "      <td>France</td>\n",
              "      <td>Female</td>\n",
              "      <td>39</td>\n",
              "      <td>1</td>\n",
              "      <td>0.00</td>\n",
              "      <td>2</td>\n",
              "      <td>0</td>\n",
              "      <td>0</td>\n",
              "      <td>93826.63</td>\n",
              "      <td>0</td>\n",
              "    </tr>\n",
              "    <tr>\n",
              "      <th>4</th>\n",
              "      <td>850</td>\n",
              "      <td>Spain</td>\n",
              "      <td>Female</td>\n",
              "      <td>43</td>\n",
              "      <td>2</td>\n",
              "      <td>125510.82</td>\n",
              "      <td>1</td>\n",
              "      <td>1</td>\n",
              "      <td>1</td>\n",
              "      <td>79084.10</td>\n",
              "      <td>0</td>\n",
              "    </tr>\n",
              "  </tbody>\n",
              "</table>\n",
              "</div>"
            ],
            "text/plain": [
              "   CreditScore Geography  Gender  ...  IsActiveMember  EstimatedSalary  Exited\n",
              "0          619    France  Female  ...               1        101348.88       1\n",
              "1          608     Spain  Female  ...               1        112542.58       0\n",
              "2          502    France  Female  ...               0        113931.57       1\n",
              "3          699    France  Female  ...               0         93826.63       0\n",
              "4          850     Spain  Female  ...               1         79084.10       0\n",
              "\n",
              "[5 rows x 11 columns]"
            ]
          },
          "metadata": {},
          "execution_count": 15
        }
      ]
    },
    {
      "cell_type": "code",
      "metadata": {
        "id": "M7vvGEN7TH-x"
      },
      "source": [
        "# one hot encoding the numerical value (we saw that cardinality was low for Geography and Gender so one hot encoding should be enough)\n",
        "df_2 = pd.get_dummies(df_1,drop_first=True)"
      ],
      "execution_count": 16,
      "outputs": []
    },
    {
      "cell_type": "code",
      "metadata": {
        "colab": {
          "base_uri": "https://localhost:8080/"
        },
        "id": "MsT2svPpT5H7",
        "outputId": "c51e92a0-fc0b-47cb-9d2e-c0a14bac2f2f"
      },
      "source": [
        "# reordering the columns in order to have the target (Exited) as the last column\n",
        "df_2.columns"
      ],
      "execution_count": 17,
      "outputs": [
        {
          "output_type": "execute_result",
          "data": {
            "text/plain": [
              "Index(['CreditScore', 'Age', 'Tenure', 'Balance', 'NumOfProducts', 'HasCrCard',\n",
              "       'IsActiveMember', 'EstimatedSalary', 'Exited', 'Geography_Germany',\n",
              "       'Geography_Spain', 'Gender_Male'],\n",
              "      dtype='object')"
            ]
          },
          "metadata": {},
          "execution_count": 17
        }
      ]
    },
    {
      "cell_type": "code",
      "metadata": {
        "id": "hP7xFWcaT6kX"
      },
      "source": [
        "df_2 = df_2[['CreditScore', 'Age', 'Geography_Germany',\n",
        "       'Geography_Spain', 'Gender_Male', 'Tenure', 'Balance', 'NumOfProducts', 'HasCrCard',\n",
        "       'IsActiveMember', 'EstimatedSalary', 'Exited']]"
      ],
      "execution_count": 18,
      "outputs": []
    },
    {
      "cell_type": "code",
      "metadata": {
        "colab": {
          "base_uri": "https://localhost:8080/",
          "height": 224
        },
        "id": "0eMMohL2UcuT",
        "outputId": "a78362dc-0933-4ff9-d68b-47c690014ad7"
      },
      "source": [
        "# checking the dataframe\n",
        "df_2.head()"
      ],
      "execution_count": 19,
      "outputs": [
        {
          "output_type": "execute_result",
          "data": {
            "text/html": [
              "<div>\n",
              "<style scoped>\n",
              "    .dataframe tbody tr th:only-of-type {\n",
              "        vertical-align: middle;\n",
              "    }\n",
              "\n",
              "    .dataframe tbody tr th {\n",
              "        vertical-align: top;\n",
              "    }\n",
              "\n",
              "    .dataframe thead th {\n",
              "        text-align: right;\n",
              "    }\n",
              "</style>\n",
              "<table border=\"1\" class=\"dataframe\">\n",
              "  <thead>\n",
              "    <tr style=\"text-align: right;\">\n",
              "      <th></th>\n",
              "      <th>CreditScore</th>\n",
              "      <th>Age</th>\n",
              "      <th>Geography_Germany</th>\n",
              "      <th>Geography_Spain</th>\n",
              "      <th>Gender_Male</th>\n",
              "      <th>Tenure</th>\n",
              "      <th>Balance</th>\n",
              "      <th>NumOfProducts</th>\n",
              "      <th>HasCrCard</th>\n",
              "      <th>IsActiveMember</th>\n",
              "      <th>EstimatedSalary</th>\n",
              "      <th>Exited</th>\n",
              "    </tr>\n",
              "  </thead>\n",
              "  <tbody>\n",
              "    <tr>\n",
              "      <th>0</th>\n",
              "      <td>619</td>\n",
              "      <td>42</td>\n",
              "      <td>0</td>\n",
              "      <td>0</td>\n",
              "      <td>0</td>\n",
              "      <td>2</td>\n",
              "      <td>0.00</td>\n",
              "      <td>1</td>\n",
              "      <td>1</td>\n",
              "      <td>1</td>\n",
              "      <td>101348.88</td>\n",
              "      <td>1</td>\n",
              "    </tr>\n",
              "    <tr>\n",
              "      <th>1</th>\n",
              "      <td>608</td>\n",
              "      <td>41</td>\n",
              "      <td>0</td>\n",
              "      <td>1</td>\n",
              "      <td>0</td>\n",
              "      <td>1</td>\n",
              "      <td>83807.86</td>\n",
              "      <td>1</td>\n",
              "      <td>0</td>\n",
              "      <td>1</td>\n",
              "      <td>112542.58</td>\n",
              "      <td>0</td>\n",
              "    </tr>\n",
              "    <tr>\n",
              "      <th>2</th>\n",
              "      <td>502</td>\n",
              "      <td>42</td>\n",
              "      <td>0</td>\n",
              "      <td>0</td>\n",
              "      <td>0</td>\n",
              "      <td>8</td>\n",
              "      <td>159660.80</td>\n",
              "      <td>3</td>\n",
              "      <td>1</td>\n",
              "      <td>0</td>\n",
              "      <td>113931.57</td>\n",
              "      <td>1</td>\n",
              "    </tr>\n",
              "    <tr>\n",
              "      <th>3</th>\n",
              "      <td>699</td>\n",
              "      <td>39</td>\n",
              "      <td>0</td>\n",
              "      <td>0</td>\n",
              "      <td>0</td>\n",
              "      <td>1</td>\n",
              "      <td>0.00</td>\n",
              "      <td>2</td>\n",
              "      <td>0</td>\n",
              "      <td>0</td>\n",
              "      <td>93826.63</td>\n",
              "      <td>0</td>\n",
              "    </tr>\n",
              "    <tr>\n",
              "      <th>4</th>\n",
              "      <td>850</td>\n",
              "      <td>43</td>\n",
              "      <td>0</td>\n",
              "      <td>1</td>\n",
              "      <td>0</td>\n",
              "      <td>2</td>\n",
              "      <td>125510.82</td>\n",
              "      <td>1</td>\n",
              "      <td>1</td>\n",
              "      <td>1</td>\n",
              "      <td>79084.10</td>\n",
              "      <td>0</td>\n",
              "    </tr>\n",
              "  </tbody>\n",
              "</table>\n",
              "</div>"
            ],
            "text/plain": [
              "   CreditScore  Age  Geography_Germany  ...  IsActiveMember  EstimatedSalary  Exited\n",
              "0          619   42                  0  ...               1        101348.88       1\n",
              "1          608   41                  0  ...               1        112542.58       0\n",
              "2          502   42                  0  ...               0        113931.57       1\n",
              "3          699   39                  0  ...               0         93826.63       0\n",
              "4          850   43                  0  ...               1         79084.10       0\n",
              "\n",
              "[5 rows x 12 columns]"
            ]
          },
          "metadata": {},
          "execution_count": 19
        }
      ]
    },
    {
      "cell_type": "markdown",
      "metadata": {
        "id": "ea_91hvt-xVp"
      },
      "source": [
        "**DATA VISUALIZATION**"
      ]
    },
    {
      "cell_type": "code",
      "metadata": {
        "colab": {
          "base_uri": "https://localhost:8080/",
          "height": 583
        },
        "id": "pj7xmmBCUiTo",
        "outputId": "d4b8c94a-6b2b-4d31-a1d5-8ef38152ef85"
      },
      "source": [
        "# looking for linear correlation between the variables using the pearson coefficient\n",
        "\n",
        "# calculating the correlation matrix (returning the correlation between all the variables)\n",
        "corr_matrix = df_2.corr()\n",
        "\n",
        "# plotting the heatmap of the correlation matrix\n",
        "plt.figure(figsize=(12,8))\n",
        "sns.heatmap(corr_matrix,annot=True, linewidths=3, vmin=-1, vmax=1)\n",
        "plt.show()"
      ],
      "execution_count": 20,
      "outputs": [
        {
          "output_type": "display_data",
          "data": {
            "image/png": "[encoded data removed]",
            "text/plain": [
              "<Figure size 864x576 with 2 Axes>"
            ]
          },
          "metadata": {
            "needs_background": "light"
          }
        }
      ]
    },
    {
      "cell_type": "markdown",
      "metadata": {
        "id": "PEb9m3Ux4Mow"
      },
      "source": [
        "we can see that the highest correlation is between Germany and Balance, the highest correlation with the target, Exited, is Age."
      ]
    },
    {
      "cell_type": "code",
      "metadata": {
        "colab": {
          "base_uri": "https://localhost:8080/",
          "height": 1000
        },
        "id": "7AppWqgSEG2z",
        "outputId": "945c020a-80fd-4cbe-f02f-f400537407dd"
      },
      "source": [
        "# plotting average churn score for each value in categorical and discrete variables in order to catch correlations between \n",
        "# those variables and the target \n",
        "cat_variables = ['Geography','Gender','HasCrCard','IsActiveMember','Tenure', 'NumOfProducts']\n",
        "\n",
        "plt.subplots(3,2,figsize=(12,14))\n",
        "\n",
        "for i in range(len(cat_variables)):\n",
        "  plt.subplot(3,2,i+1)\n",
        "  plt.bar(df_1.groupby(cat_variables[i]).agg({'Exited':'mean'}).index,df_1.groupby(cat_variables[i]).agg({'Exited':'mean'})['Exited'],width = 0.8)\n",
        "  plt.ylabel(f'churn score')\n",
        "  plt.xticks(df_1.groupby(cat_variables[i]).agg({'Exited':'mean'}).index)\n",
        "  plt.title(f'churn score by {cat_variables[i]}')\n",
        "  plt.tight_layout()"
      ],
      "execution_count": 21,
      "outputs": [
        {
          "output_type": "display_data",
          "data": {
            "image/png": "[encoded data removed]",
            "text/plain": [
              "<Figure size 864x1008 with 6 Axes>"
            ]
          },
          "metadata": {
            "needs_background": "light"
          }
        }
      ]
    },
    {
      "cell_type": "markdown",
      "metadata": {
        "id": "dmIluCvex8P3"
      },
      "source": [
        "*  customers from Germany are more likely to churn than customers from France and Spain\n",
        "*  it seems that women are more likely to churn than men\n",
        "*  customers that don't have a credit card have the same probability to churn than those who have one\n",
        "*   Non members are more likely to churn than members\n",
        "*   Tenure doesn't seem to be predictive\n",
        "*   It seems that the more products a customer uses the more he is likely to churn\n",
        "\n",
        "\n",
        "\n"
      ]
    },
    {
      "cell_type": "code",
      "metadata": {
        "colab": {
          "base_uri": "https://localhost:8080/"
        },
        "id": "CDU2VdknC-v0",
        "outputId": "229e07d6-9771-4635-cef0-83b35b4dcc14"
      },
      "source": [
        "# checking the number of records for each NumOfProducts\n",
        "df_2['NumOfProducts'].value_counts()"
      ],
      "execution_count": 22,
      "outputs": [
        {
          "output_type": "execute_result",
          "data": {
            "text/plain": [
              "1    5084\n",
              "2    4590\n",
              "3     266\n",
              "4      60\n",
              "Name: NumOfProducts, dtype: int64"
            ]
          },
          "metadata": {},
          "execution_count": 22
        }
      ]
    },
    {
      "cell_type": "markdown",
      "metadata": {
        "id": "iDcKFAT-Dl14"
      },
      "source": [
        "we have a very few records for NumOfProducts equal to 3 and 4, so it is maybe non relevant to say that the more products we have the more likely a customer will Exit. We may have those numbers just by chance"
      ]
    },
    {
      "cell_type": "code",
      "metadata": {
        "colab": {
          "base_uri": "https://localhost:8080/",
          "height": 1000
        },
        "id": "EbTgGXO1JKZB",
        "outputId": "9922652b-69a5-47e1-9779-4b55d586b1eb"
      },
      "source": [
        "# now let's plot the distribution of the continuous numerical features for churned and non churned customers\n",
        "# in order to capture if the variables may be predictive or not\n",
        "num_variables = ['CreditScore', 'Age', 'Balance', 'EstimatedSalary']\n",
        "\n",
        "\n",
        "for i in range(len(num_variables)):\n",
        "  sns.displot(df_2,x=num_variables[i] , hue='Exited' , legend=False , kind ='kde')\n",
        "  plt.title(f'{num_variables[i]} distribution for churned and non churned customers')\n",
        "  # drawing vertical lines for the numerical variable mean and mode for churned customers\n",
        "  plt.axvline(df_2[df_2.Exited==1][num_variables[i]].median() , linestyle='--' , color='orange')\n",
        "  # drawing vertical lines for the numerical variable mean and mode for non churned customers\n",
        "  plt.axvline(df_2[df_2.Exited==0][num_variables[i]].median(),linestyle = '--' , color='lightblue')\n",
        "  plt.legend(['churned','stayed'])\n",
        "  #plt.tight_layout()"
      ],
      "execution_count": 23,
      "outputs": [
        {
          "output_type": "display_data",
          "data": {
            "image/png": "[encoded data removed]",
            "text/plain": [
              "<Figure size 360x360 with 1 Axes>"
            ]
          },
          "metadata": {
            "needs_background": "light"
          }
        },
        {
          "output_type": "display_data",
          "data": {
            "image/png": "[encoded data removed]",
            "text/plain": [
              "<Figure size 360x360 with 1 Axes>"
            ]
          },
          "metadata": {
            "needs_background": "light"
          }
        },
        {
          "output_type": "display_data",
          "data": {
            "image/png": "[encoded data removed]",
            "text/plain": [
              "<Figure size 360x360 with 1 Axes>"
            ]
          },
          "metadata": {
            "needs_background": "light"
          }
        },
        {
          "output_type": "display_data",
          "data": {
            "image/png": "[encoded data removed]",
            "text/plain": [
              "<Figure size 360x360 with 1 Axes>"
            ]
          },
          "metadata": {
            "needs_background": "light"
          }
        }
      ]
    },
    {
      "cell_type": "markdown",
      "metadata": {
        "id": "GkCHuyyOmGrU"
      },
      "source": [
        "Distributions of CreditScore and EstimatedSalary are likely the same for Exited and Stayed customers which means that the power of prediction of these variables is more likely to be very low or null. Distributions of Age and Balance are a little different between Exited and Stayed customers, these features should be predictive."
      ]
    },
    {
      "cell_type": "markdown",
      "metadata": {
        "id": "iMYU-05nnaZF"
      },
      "source": [
        "## **Modeling**"
      ]
    },
    {
      "cell_type": "markdown",
      "metadata": {
        "id": "Nb2EMPktp3L_"
      },
      "source": [
        "Our objective now is to try different models with different parameters in order to choose our final best model. But what is the best metric in our case that will allow us to compare and find the best model ?\n",
        "In a business stand point I usually work within the expected value framework meaning that we first need to know what are the benefits of a good classification and the costs of a missclassification and according to the different models predictions compare the expected values and select the model that is bringing the most value to the business. In our case we don't have the benefits and the costs so we need to make the assumption that it is more critical for the business to find potential churner and also that churners predicted as non churners (False Negative) have a greater impact on the business than non churners predicted as churners (False Positive).\n",
        "In conclusion we will focus on the recall score in order to compare our different models. "
      ]
    },
    {
      "cell_type": "markdown",
      "metadata": {
        "id": "VrN5mz1awfhj"
      },
      "source": [
        "we will try here the following models\n",
        "\n",
        "*   Logistic Regression\n",
        "*   KNN\n",
        "*   SVM\n",
        "*   Random Forest\n",
        "*   XGBoost\n",
        "\n",
        "\n",
        "\n",
        "\n",
        "\n"
      ]
    },
    {
      "cell_type": "code",
      "metadata": {
        "id": "g0VAuB3B0N8W"
      },
      "source": [
        "# defining the variables and the target\n",
        "X = df_2.iloc[:,:-1]\n",
        "y = df_2.iloc[:,-1]"
      ],
      "execution_count": 26,
      "outputs": []
    },
    {
      "cell_type": "code",
      "metadata": {
        "id": "3QGDrS_vjNv2"
      },
      "source": [
        "# splitting the data into train and test sets\n",
        "from sklearn.model_selection import train_test_split\n",
        "\n",
        "X_train,X_test,y_train,y_test = train_test_split(X,y, test_size=0.3 , shuffle=True , stratify=y , random_state=42)"
      ],
      "execution_count": 27,
      "outputs": []
    },
    {
      "cell_type": "code",
      "metadata": {
        "id": "f1217SzfUrSM"
      },
      "source": [
        "# now let's run different models and pick the best one using pipelines\n",
        "# in this pipelines we will use Synthetic Minority Oversampling Technique SMOTE to rebalance the classes in our data\n",
        "# usually SMOTE performs better when combined with undersampling so we are going to oversample the minorty class and undersample the majority one\n",
        "\n",
        "# importing the needed libraries\n",
        "\n",
        "# pipeline\n",
        "from imblearn.pipeline import Pipeline\n",
        "\n",
        "# gridsearch to search over multiple parameters\n",
        "from sklearn.model_selection import GridSearchCV\n",
        "\n",
        "# SMOTE for oversampling the minority class\n",
        "from imblearn.over_sampling import SMOTE\n",
        "\n",
        "# RandomUnderSampler for undersampling the majority class\n",
        "from imblearn.under_sampling import RandomUnderSampler\n",
        "\n",
        "# scaling the data \n",
        "from sklearn.preprocessing import StandardScaler, MinMaxScaler, RobustScaler\n",
        "\n",
        "# cross validation library\n",
        "from sklearn.model_selection import cross_val_score\n",
        "\n",
        "# confusion matrix\n",
        "from sklearn.metrics import confusion_matrix, accuracy_score, precision_score , recall_score , precision_score , roc_curve\n",
        "\n",
        "\n",
        "# importing models libraries\n",
        "from sklearn.linear_model import LogisticRegression\n",
        "from sklearn.neighbors import KNeighborsClassifier\n",
        "from sklearn.svm import SVC\n",
        "from sklearn.ensemble import RandomForestClassifier\n",
        "from xgboost import XGBClassifier"
      ],
      "execution_count": 28,
      "outputs": []
    },
    {
      "cell_type": "markdown",
      "metadata": {
        "id": "dAD0NC7nvT_u"
      },
      "source": [
        "1 - Logistic Regression"
      ]
    },
    {
      "cell_type": "code",
      "metadata": {
        "id": "4otfmUbfi8iT",
        "colab": {
          "base_uri": "https://localhost:8080/"
        },
        "outputId": "8b334e96-76cf-487a-eb26-cd1c0a49ccae"
      },
      "source": [
        "estimators_log = [('scale',StandardScaler()),('oversample',SMOTE()),('undersample',RandomUnderSampler()),('model', LogisticRegression())]\n",
        "\n",
        "pipe_log = Pipeline(estimators_log)\n",
        "\n",
        "param_grid_log = [\n",
        "{'scale': [None,StandardScaler(),MinMaxScaler(),RobustScaler()]},\n",
        "{'oversample': [SMOTE(random_state=42)],\n",
        " # setting the sizes of minority and majority classes samples when oversampling\n",
        " 'oversample__sampling_strategy':[0.3,0.4,0.45,0.5]}, \n",
        "{'undersample':[RandomUnderSampler(random_state=42)],\n",
        " 'undersample__sampling_strategy':[1]},\n",
        "{'model':[LogisticRegression(random_state=42)],\n",
        " 'model__C':[0.001, 0.01, 0.1, 1, 10, 100]}\n",
        "]\n",
        "\n",
        "#searching over the parameters in the pipeline by using GridSearchCV\n",
        "grid_log = GridSearchCV(pipe_log, param_grid_log, cv=5, n_jobs=-1,verbose=1,scoring='recall',refit=True)\n",
        "\n",
        "# best found model, based on its cross-validation score (here is the Recall) in the grid search\n",
        "fittedgrid_log = grid_log.fit(X_train, y_train)"
      ],
      "execution_count": 55,
      "outputs": [
        {
          "output_type": "stream",
          "name": "stdout",
          "text": [
            "Fitting 5 folds for each of 15 candidates, totalling 75 fits\n"
          ]
        }
      ]
    },
    {
      "cell_type": "code",
      "metadata": {
        "id": "c8fJ1tVljXBD",
        "colab": {
          "base_uri": "https://localhost:8080/"
        },
        "outputId": "626e4c39-1624-4b1b-df0f-d683cd1e2ef4"
      },
      "source": [
        "# returning the best estimator\n",
        "fittedgrid_log.best_estimator_"
      ],
      "execution_count": 56,
      "outputs": [
        {
          "output_type": "execute_result",
          "data": {
            "text/plain": [
              "Pipeline(steps=[('scale', StandardScaler()), ('oversample', SMOTE()),\n",
              "                ('undersample', RandomUnderSampler()),\n",
              "                ('model', LogisticRegression(C=0.001, random_state=42))])"
            ]
          },
          "metadata": {},
          "execution_count": 56
        }
      ]
    },
    {
      "cell_type": "code",
      "metadata": {
        "colab": {
          "base_uri": "https://localhost:8080/"
        },
        "id": "XyjwS4C4uFFa",
        "outputId": "ed60e4c6-f5f5-41a8-aff1-4a57711baff4"
      },
      "source": [
        "fittedgrid_log.best_params_"
      ],
      "execution_count": 57,
      "outputs": [
        {
          "output_type": "execute_result",
          "data": {
            "text/plain": [
              "{'model': LogisticRegression(C=0.001, random_state=42), 'model__C': 0.001}"
            ]
          },
          "metadata": {},
          "execution_count": 57
        }
      ]
    },
    {
      "cell_type": "code",
      "metadata": {
        "colab": {
          "base_uri": "https://localhost:8080/",
          "height": 179
        },
        "id": "eZFWmv3ezv-C",
        "outputId": "a7db8d19-ad58-4831-c654-bbf70c1d21ad"
      },
      "source": [
        "# returning the confusion matrix\n",
        "y_pred_log = fittedgrid_log.best_estimator_.predict(X_test)\n",
        "confusion_matrix_log = pd.DataFrame(data = confusion_matrix(y_test,y_pred_log), columns=[0,1])\n",
        "display(confusion_matrix_log)\n",
        "\n",
        "# accuracy score for test data with our best estimator \n",
        "log_accuracy_score = accuracy_score(y_test, y_pred_log)\n",
        "print(f'\\n- accuracy score for our best logistic Regression model is {log_accuracy_score.round(3)}')\n",
        "# recall score for test data with our best estimator \n",
        "log_recall_score = recall_score(y_test, y_pred_log)\n",
        "print(f'- recall score for our best logistic Regression model is {log_recall_score.round(3)}')\n",
        "# precision score for test data with our best estimator \n",
        "log_precision_score = precision_score(y_test, y_pred_log)\n",
        "print(f'- precision score for our best logistic Regression model is {log_precision_score.round(3)}')"
      ],
      "execution_count": 58,
      "outputs": [
        {
          "output_type": "display_data",
          "data": {
            "text/html": [
              "<div>\n",
              "<style scoped>\n",
              "    .dataframe tbody tr th:only-of-type {\n",
              "        vertical-align: middle;\n",
              "    }\n",
              "\n",
              "    .dataframe tbody tr th {\n",
              "        vertical-align: top;\n",
              "    }\n",
              "\n",
              "    .dataframe thead th {\n",
              "        text-align: right;\n",
              "    }\n",
              "</style>\n",
              "<table border=\"1\" class=\"dataframe\">\n",
              "  <thead>\n",
              "    <tr style=\"text-align: right;\">\n",
              "      <th></th>\n",
              "      <th>0</th>\n",
              "      <th>1</th>\n",
              "    </tr>\n",
              "  </thead>\n",
              "  <tbody>\n",
              "    <tr>\n",
              "      <th>0</th>\n",
              "      <td>1716</td>\n",
              "      <td>673</td>\n",
              "    </tr>\n",
              "    <tr>\n",
              "      <th>1</th>\n",
              "      <td>171</td>\n",
              "      <td>440</td>\n",
              "    </tr>\n",
              "  </tbody>\n",
              "</table>\n",
              "</div>"
            ],
            "text/plain": [
              "      0    1\n",
              "0  1716  673\n",
              "1   171  440"
            ]
          },
          "metadata": {}
        },
        {
          "output_type": "stream",
          "name": "stdout",
          "text": [
            "\n",
            "- accuracy score for our best logistic Regression model is 0.719\n",
            "- recall score for our best logistic Regression model is 0.72\n",
            "- precision score for our best logistic Regression model is 0.395\n"
          ]
        }
      ]
    },
    {
      "cell_type": "markdown",
      "metadata": {
        "id": "b1ww_j6Lwbq7"
      },
      "source": [
        "2 - KNN"
      ]
    },
    {
      "cell_type": "code",
      "metadata": {
        "colab": {
          "base_uri": "https://localhost:8080/"
        },
        "id": "NEV4rDg41IMs",
        "outputId": "f1386436-f257-4ec0-efc9-72f20995ec84"
      },
      "source": [
        "estimators_KNN = [('scale',StandardScaler()),('oversample',SMOTE()),('undersample',RandomUnderSampler()),('model', KNeighborsClassifier())]\n",
        "\n",
        "pipe_KNN = Pipeline(estimators_KNN)\n",
        "\n",
        "param_grid_KNN = [\n",
        "{'scale': [None,StandardScaler(),MinMaxScaler(),RobustScaler()]},\n",
        "{'oversample': [SMOTE(random_state=42)],\n",
        " # setting the sizes of minority and majority classes samples when oversampling\n",
        " 'oversample__sampling_strategy':[0.3,0.4,0.45,0.5]}, \n",
        "{'undersample':[RandomUnderSampler(random_state=42)],\n",
        " 'undersample__sampling_strategy':[1]},\n",
        "{'model':[KNeighborsClassifier()],\n",
        " 'model__n_neighbors':[3,5,7,9]}\n",
        "]\n",
        "\n",
        "#searching over the parameters in the pipeline by using GridSearchCV\n",
        "grid_KNN = GridSearchCV(pipe_KNN, param_grid_KNN, cv=5, n_jobs=-1,verbose=1,scoring='recall')\n",
        "\n",
        "# best found model, based on its cross-validation score (here is the Recall) in the grid search\n",
        "fittedgrid_KNN = grid_KNN.fit(X_train, y_train)"
      ],
      "execution_count": 60,
      "outputs": [
        {
          "output_type": "stream",
          "name": "stdout",
          "text": [
            "Fitting 5 folds for each of 13 candidates, totalling 65 fits\n"
          ]
        }
      ]
    },
    {
      "cell_type": "code",
      "metadata": {
        "colab": {
          "base_uri": "https://localhost:8080/"
        },
        "id": "atnnrfb7yfhG",
        "outputId": "05a062cd-3bc9-42f8-9eb3-f74e978d322c"
      },
      "source": [
        "# returning the best estimator\n",
        "fittedgrid_KNN.best_estimator_"
      ],
      "execution_count": 61,
      "outputs": [
        {
          "output_type": "execute_result",
          "data": {
            "text/plain": [
              "Pipeline(steps=[('scale', StandardScaler()),\n",
              "                ('oversample', SMOTE(random_state=42, sampling_strategy=0.3)),\n",
              "                ('undersample', RandomUnderSampler()),\n",
              "                ('model', KNeighborsClassifier())])"
            ]
          },
          "metadata": {},
          "execution_count": 61
        }
      ]
    },
    {
      "cell_type": "code",
      "metadata": {
        "colab": {
          "base_uri": "https://localhost:8080/",
          "height": 179
        },
        "id": "YlwphdIr2PHi",
        "outputId": "6fdbe550-88fd-4e5b-b1f7-50148237ddcd"
      },
      "source": [
        "# returning the confusion matrix\n",
        "y_pred_KNN = fittedgrid_KNN.best_estimator_.predict(X_test)\n",
        "confusion_matrix_KNN = pd.DataFrame(data = confusion_matrix(y_test,y_pred_KNN), columns=[0,1])\n",
        "display(confusion_matrix_KNN)\n",
        "\n",
        "# accuracy score for test data with our best estimator \n",
        "KNN_accuracy_score = accuracy_score(y_test, y_pred_KNN)\n",
        "print(f'\\n- accuracy score for our best KNN model is {KNN_accuracy_score.round(3)}')\n",
        "# recall score for test data with our best estimator \n",
        "KNN_recall_score = recall_score(y_test, y_pred_KNN)\n",
        "print(f'- recall score for our best KNN model is {KNN_recall_score.round(3)}')\n",
        "# precision score for test data with our best estimator \n",
        "KNN_precision_score = precision_score(y_test, y_pred_KNN)\n",
        "print(f'- precision score for our best KNN model is {KNN_precision_score.round(3)}')"
      ],
      "execution_count": 62,
      "outputs": [
        {
          "output_type": "display_data",
          "data": {
            "text/html": [
              "<div>\n",
              "<style scoped>\n",
              "    .dataframe tbody tr th:only-of-type {\n",
              "        vertical-align: middle;\n",
              "    }\n",
              "\n",
              "    .dataframe tbody tr th {\n",
              "        vertical-align: top;\n",
              "    }\n",
              "\n",
              "    .dataframe thead th {\n",
              "        text-align: right;\n",
              "    }\n",
              "</style>\n",
              "<table border=\"1\" class=\"dataframe\">\n",
              "  <thead>\n",
              "    <tr style=\"text-align: right;\">\n",
              "      <th></th>\n",
              "      <th>0</th>\n",
              "      <th>1</th>\n",
              "    </tr>\n",
              "  </thead>\n",
              "  <tbody>\n",
              "    <tr>\n",
              "      <th>0</th>\n",
              "      <td>1736</td>\n",
              "      <td>653</td>\n",
              "    </tr>\n",
              "    <tr>\n",
              "      <th>1</th>\n",
              "      <td>186</td>\n",
              "      <td>425</td>\n",
              "    </tr>\n",
              "  </tbody>\n",
              "</table>\n",
              "</div>"
            ],
            "text/plain": [
              "      0    1\n",
              "0  1736  653\n",
              "1   186  425"
            ]
          },
          "metadata": {}
        },
        {
          "output_type": "stream",
          "name": "stdout",
          "text": [
            "\n",
            "- accuracy score for our best KNN model is 0.72\n",
            "- recall score for our best KNN model is 0.696\n",
            "- precision score for our best KNN model is 0.394\n"
          ]
        }
      ]
    },
    {
      "cell_type": "markdown",
      "metadata": {
        "id": "U6x2zvxQ2jci"
      },
      "source": [
        "3 - SVM"
      ]
    },
    {
      "cell_type": "code",
      "metadata": {
        "colab": {
          "base_uri": "https://localhost:8080/"
        },
        "id": "j45ylL7--Wfx",
        "outputId": "89ce7029-a0cd-495f-d06f-863c5192c0d7"
      },
      "source": [
        "estimators_SVM = [('scale',StandardScaler()),('oversample',SMOTE()),('undersample',RandomUnderSampler()),('model', SVC())]\n",
        "\n",
        "pipe_SVM = Pipeline(estimators_SVM)\n",
        "\n",
        "param_grid_SVM = [\n",
        "{'scale': [None,StandardScaler(),MinMaxScaler(),RobustScaler()]},\n",
        "{'oversample': [SMOTE(random_state=42)],\n",
        " # setting the sizes of minority and majority classes samples when oversampling\n",
        " 'oversample__sampling_strategy':[0.3,0.4,0.45,0.5]}, \n",
        "{'undersample':[RandomUnderSampler(random_state=42)],\n",
        " 'undersample__sampling_strategy':[1]},\n",
        "{'model':[SVC(random_state=42)],\n",
        " 'model__C':[0.001, 0.01, 0.1, 1, 10, 100],\n",
        " 'model__kernel':['linear','rbf','poly']}\n",
        "]\n",
        "\n",
        "#searching over the parameters in the pipeline by using GridSearchCV\n",
        "grid_SVM = GridSearchCV(pipe_SVM, param_grid_SVM, cv=5, n_jobs=-1,verbose=1,scoring='recall',refit=True)\n",
        "\n",
        "# best found model, based on its cross-validation score (here is the Recall) in the grid search\n",
        "fittedgrid_SVM = grid_SVM.fit(X_train, y_train)"
      ],
      "execution_count": 63,
      "outputs": [
        {
          "metadata": {
            "tags": null
          },
          "name": "stdout",
          "output_type": "stream",
          "text": [
            "Fitting 5 folds for each of 27 candidates, totalling 135 fits\n"
          ]
        }
      ]
    },
    {
      "cell_type": "code",
      "metadata": {
        "colab": {
          "base_uri": "https://localhost:8080/"
        },
        "id": "wR5tfKfD3V2L",
        "outputId": "556e68cf-00ca-4364-91f5-40a057edf748"
      },
      "source": [
        "# returning the best estimator\n",
        "fittedgrid_SVM.best_estimator_"
      ],
      "execution_count": 64,
      "outputs": [
        {
          "output_type": "execute_result",
          "data": {
            "text/plain": [
              "Pipeline(steps=[('scale', StandardScaler()),\n",
              "                ('oversample', SMOTE(random_state=42, sampling_strategy=0.3)),\n",
              "                ('undersample', RandomUnderSampler()), ('model', SVC())])"
            ]
          },
          "metadata": {},
          "execution_count": 64
        }
      ]
    },
    {
      "cell_type": "code",
      "metadata": {
        "colab": {
          "base_uri": "https://localhost:8080/",
          "height": 179
        },
        "id": "lwfRMBPj3ySH",
        "outputId": "1f04a304-8628-4159-bc46-942f071cdc21"
      },
      "source": [
        "# returning the confusion matrix\n",
        "y_pred_SVM = fittedgrid_SVM.best_estimator_.predict(X_test)\n",
        "confusion_matrix_SVM = pd.DataFrame(data = confusion_matrix(y_test,y_pred_SVM), columns=[0,1])\n",
        "display(confusion_matrix_SVM)\n",
        "\n",
        "\n",
        "# accuracy score for test data with our best estimator \n",
        "SVM_accuracy_score = accuracy_score(y_test, y_pred_SVM)\n",
        "print(f'\\n- accuracy score for our best SVM model is {SVM_accuracy_score.round(3)}')\n",
        "# recall score for test data with our best estimator \n",
        "SVM_recall_score = recall_score(y_test, y_pred_SVM)\n",
        "print(f'- recall score for our best SVM model is {SVM_recall_score.round(3)}')\n",
        "# precision score for test data with our best estimator \n",
        "SVM_precision_score = precision_score(y_test, y_pred_SVM)\n",
        "print(f'- precision score for our best SVM model is {SVM_precision_score.round(3)}')"
      ],
      "execution_count": 65,
      "outputs": [
        {
          "output_type": "display_data",
          "data": {
            "text/html": [
              "<div>\n",
              "<style scoped>\n",
              "    .dataframe tbody tr th:only-of-type {\n",
              "        vertical-align: middle;\n",
              "    }\n",
              "\n",
              "    .dataframe tbody tr th {\n",
              "        vertical-align: top;\n",
              "    }\n",
              "\n",
              "    .dataframe thead th {\n",
              "        text-align: right;\n",
              "    }\n",
              "</style>\n",
              "<table border=\"1\" class=\"dataframe\">\n",
              "  <thead>\n",
              "    <tr style=\"text-align: right;\">\n",
              "      <th></th>\n",
              "      <th>0</th>\n",
              "      <th>1</th>\n",
              "    </tr>\n",
              "  </thead>\n",
              "  <tbody>\n",
              "    <tr>\n",
              "      <th>0</th>\n",
              "      <td>1885</td>\n",
              "      <td>504</td>\n",
              "    </tr>\n",
              "    <tr>\n",
              "      <th>1</th>\n",
              "      <td>149</td>\n",
              "      <td>462</td>\n",
              "    </tr>\n",
              "  </tbody>\n",
              "</table>\n",
              "</div>"
            ],
            "text/plain": [
              "      0    1\n",
              "0  1885  504\n",
              "1   149  462"
            ]
          },
          "metadata": {}
        },
        {
          "output_type": "stream",
          "name": "stdout",
          "text": [
            "\n",
            "- accuracy score for our best SVM model is 0.782\n",
            "- recall score for our best SVM model is 0.756\n",
            "- precision score for our best SVM model is 0.478\n"
          ]
        }
      ]
    },
    {
      "cell_type": "markdown",
      "metadata": {
        "id": "FUkbqvO5HqS5"
      },
      "source": [
        "Random Forest"
      ]
    },
    {
      "cell_type": "code",
      "metadata": {
        "colab": {
          "base_uri": "https://localhost:8080/"
        },
        "id": "NfUKwYuCDOeM",
        "outputId": "5212521f-1e8d-4f08-8282-037a0d5f0318"
      },
      "source": [
        "estimators_RF = [('scale',StandardScaler()),('oversample',SMOTE()),('undersample',RandomUnderSampler()),('model', RandomForestClassifier())]\n",
        "\n",
        "pipe_RF = Pipeline(estimators_RF)\n",
        "\n",
        "param_grid_RF = [\n",
        "{'scale': [None,StandardScaler(),MinMaxScaler(),RobustScaler()]},\n",
        "{'oversample': [SMOTE(random_state=42)],\n",
        " # setting the sizes of minority and majority classes samples when oversampling\n",
        " 'oversample__sampling_strategy':[0.3,0.4,0.45,0.5]}, \n",
        "{'undersample':[RandomUnderSampler(random_state=42)],\n",
        " 'undersample__sampling_strategy':[1]},\n",
        "{'model':[RandomForestClassifier(random_state=42)],\n",
        " 'model__n_estimators':[100,200,500, 1000, 1500],\n",
        " 'model__criterion':['gini','entropy']}\n",
        "]\n",
        "\n",
        "#searching over the parameters in the pipeline by using GridSearchCV\n",
        "grid_RF = GridSearchCV(pipe_RF, param_grid_RF, cv=5, n_jobs=-1,verbose=1,scoring='recall',refit=True)\n",
        "\n",
        "# best found model, based on its cross-validation score (here is the Recall) in the grid search\n",
        "fittedgrid_RF = grid_RF.fit(X_train, y_train)"
      ],
      "execution_count": 66,
      "outputs": [
        {
          "output_type": "stream",
          "name": "stdout",
          "text": [
            "Fitting 5 folds for each of 19 candidates, totalling 95 fits\n"
          ]
        },
        {
          "output_type": "stream",
          "name": "stderr",
          "text": [
            "/usr/local/lib/python3.7/dist-packages/joblib/externals/loky/process_executor.py:705: UserWarning: A worker stopped while some jobs were given to the executor. This can be caused by a too short worker timeout or by a memory leak.\n",
            "  \"timeout or by a memory leak.\", UserWarning\n"
          ]
        }
      ]
    },
    {
      "cell_type": "code",
      "metadata": {
        "colab": {
          "base_uri": "https://localhost:8080/"
        },
        "id": "l_WXRHVYboUH",
        "outputId": "c12c586f-db57-45ba-d063-22da5de9b072"
      },
      "source": [
        "# returning the parameters of the best estimator\n",
        "fittedgrid_RF.best_estimator_"
      ],
      "execution_count": 67,
      "outputs": [
        {
          "output_type": "execute_result",
          "data": {
            "text/plain": [
              "Pipeline(steps=[('scale', StandardScaler()),\n",
              "                ('oversample', SMOTE(random_state=42, sampling_strategy=0.3)),\n",
              "                ('undersample', RandomUnderSampler()),\n",
              "                ('model', RandomForestClassifier())])"
            ]
          },
          "metadata": {},
          "execution_count": 67
        }
      ]
    },
    {
      "cell_type": "code",
      "metadata": {
        "colab": {
          "base_uri": "https://localhost:8080/",
          "height": 179
        },
        "id": "xKZiFnz2cOi7",
        "outputId": "22f8d325-87e3-423a-ad2a-2346c316fcdd"
      },
      "source": [
        "# returning the confusion matrix\n",
        "y_pred_RF = fittedgrid_RF.best_estimator_.predict(X_test)\n",
        "confusion_matrix_RF = pd.DataFrame(data = confusion_matrix(y_test,y_pred_RF), columns=[0,1])\n",
        "display(confusion_matrix_RF)\n",
        "\n",
        "# accuracy score for test data with our best estimator \n",
        "RF_accuracy_score = accuracy_score(y_test, y_pred_RF)\n",
        "print(f'\\n- accuracy score for our best RF model is {RF_accuracy_score.round(3)}')\n",
        "# recall score for test data with our best estimator \n",
        "RF_recall_score = recall_score(y_test, y_pred_RF)\n",
        "print(f'recall score for our best Random Forest model is {RF_recall_score.round(3)}')\n",
        "# precision score for test data with our best estimator \n",
        "RF_precision_score = precision_score(y_test, y_pred_RF)\n",
        "print(f'precision score for our best Random Forest model is {RF_precision_score.round(3)}')"
      ],
      "execution_count": 68,
      "outputs": [
        {
          "output_type": "display_data",
          "data": {
            "text/html": [
              "<div>\n",
              "<style scoped>\n",
              "    .dataframe tbody tr th:only-of-type {\n",
              "        vertical-align: middle;\n",
              "    }\n",
              "\n",
              "    .dataframe tbody tr th {\n",
              "        vertical-align: top;\n",
              "    }\n",
              "\n",
              "    .dataframe thead th {\n",
              "        text-align: right;\n",
              "    }\n",
              "</style>\n",
              "<table border=\"1\" class=\"dataframe\">\n",
              "  <thead>\n",
              "    <tr style=\"text-align: right;\">\n",
              "      <th></th>\n",
              "      <th>0</th>\n",
              "      <th>1</th>\n",
              "    </tr>\n",
              "  </thead>\n",
              "  <tbody>\n",
              "    <tr>\n",
              "      <th>0</th>\n",
              "      <td>1917</td>\n",
              "      <td>472</td>\n",
              "    </tr>\n",
              "    <tr>\n",
              "      <th>1</th>\n",
              "      <td>147</td>\n",
              "      <td>464</td>\n",
              "    </tr>\n",
              "  </tbody>\n",
              "</table>\n",
              "</div>"
            ],
            "text/plain": [
              "      0    1\n",
              "0  1917  472\n",
              "1   147  464"
            ]
          },
          "metadata": {}
        },
        {
          "output_type": "stream",
          "name": "stdout",
          "text": [
            "\n",
            "- accuracy score for our best RF model is 0.794\n",
            "recall score for our best Random Forest model is 0.759\n",
            "precision score for our best Random Forest model is 0.496\n"
          ]
        }
      ]
    },
    {
      "cell_type": "markdown",
      "metadata": {
        "id": "1JYimsVxiZ7i"
      },
      "source": [
        "XGBoost"
      ]
    },
    {
      "cell_type": "code",
      "metadata": {
        "colab": {
          "base_uri": "https://localhost:8080/"
        },
        "id": "Y7KJCHpcJD6Y",
        "outputId": "0a4a41e6-458d-44e7-df99-1c26ab70766b"
      },
      "source": [
        "estimators_XGB = [('scale',StandardScaler()),('oversample',SMOTE()),('undersample',RandomUnderSampler()),('model', XGBClassifier())]\n",
        "\n",
        "pipe_XGB = Pipeline(estimators_XGB)\n",
        "\n",
        "param_grid_XGB = [\n",
        "{'scale': [None,StandardScaler(),MinMaxScaler(),RobustScaler()]},\n",
        "{'oversample': [SMOTE(random_state=42)],\n",
        " # setting the sizes of minority and majority classes samples when oversampling\n",
        " 'oversample__sampling_strategy':[0.3,0.4,0.45,0.5]}, \n",
        "{'undersample':[RandomUnderSampler(sampling_strategy=1 , random_state=42)]},\n",
        "{'model':[XGBClassifier()],\n",
        " 'model__n_estimators':[500, 1000, 1500],\n",
        " 'model__label':X_train.columns.values,\n",
        " 'model__learning_rate':[0.01,0.1,1]}\n",
        "]\n",
        "\n",
        "#searching over the parameters in the pipeline by using GridSearchCV\n",
        "grid_XGB = GridSearchCV(pipe_XGB, param_grid_XGB, cv=5, n_jobs=-1,verbose=1,scoring='recall',refit=True)\n",
        "\n",
        "# best found model, based on its cross-validation score (here is the Recall) in the grid search\n",
        "fittedgrid_XGB = grid_XGB.fit(X_train.values, y_train.values)\n"
      ],
      "execution_count": 69,
      "outputs": [
        {
          "metadata": {
            "tags": null
          },
          "name": "stdout",
          "output_type": "stream",
          "text": [
            "Fitting 5 folds for each of 108 candidates, totalling 540 fits\n"
          ]
        }
      ]
    },
    {
      "cell_type": "code",
      "metadata": {
        "colab": {
          "base_uri": "https://localhost:8080/"
        },
        "id": "GJI9H7AN7xxd",
        "outputId": "d8024903-87bf-4909-a7b2-80c316308d85"
      },
      "source": [
        "# returning the parameters of the best estimator\n",
        "fittedgrid_XGB.best_estimator_"
      ],
      "execution_count": 70,
      "outputs": [
        {
          "output_type": "execute_result",
          "data": {
            "text/plain": [
              "Pipeline(steps=[('scale', StandardScaler()),\n",
              "                ('oversample', SMOTE(random_state=42, sampling_strategy=0.3)),\n",
              "                ('undersample', RandomUnderSampler()),\n",
              "                ('model', XGBClassifier())])"
            ]
          },
          "metadata": {},
          "execution_count": 70
        }
      ]
    },
    {
      "cell_type": "code",
      "metadata": {
        "colab": {
          "base_uri": "https://localhost:8080/",
          "height": 179
        },
        "id": "66g6c7VLlqz3",
        "outputId": "75491cd3-6fea-4187-c74b-d840e3c1e71d"
      },
      "source": [
        "# returning the confusion matrix\n",
        "y_pred_XGB = fittedgrid_XGB.best_estimator_.predict(X_test.values)\n",
        "confusion_matrix_XGB = pd.DataFrame(data = confusion_matrix(y_test.values,y_pred_XGB), columns=[0,1])\n",
        "display(confusion_matrix_XGB)\n",
        "\n",
        "# accuracy score for test data with our best estimator \n",
        "XGB_accuracy_score = accuracy_score(y_test, y_pred_XGB)\n",
        "print(f'\\n- accuracy score for our best XGBoost model is {SVM_accuracy_score.round(3)}')\n",
        "# recall score for test data with our best estimator \n",
        "XGB_recall_score = recall_score(y_test.values, y_pred_XGB)\n",
        "print(f'recall score for our best XG Boost model is {XGB_recall_score.round(3)}')\n",
        "# precision score for test data with our best estimator \n",
        "XGB_precision_score = precision_score(y_test, y_pred_XGB)\n",
        "print(f'precision score for our best XGBoost model is {XGB_precision_score.round(3)}')"
      ],
      "execution_count": 71,
      "outputs": [
        {
          "output_type": "display_data",
          "data": {
            "text/html": [
              "<div>\n",
              "<style scoped>\n",
              "    .dataframe tbody tr th:only-of-type {\n",
              "        vertical-align: middle;\n",
              "    }\n",
              "\n",
              "    .dataframe tbody tr th {\n",
              "        vertical-align: top;\n",
              "    }\n",
              "\n",
              "    .dataframe thead th {\n",
              "        text-align: right;\n",
              "    }\n",
              "</style>\n",
              "<table border=\"1\" class=\"dataframe\">\n",
              "  <thead>\n",
              "    <tr style=\"text-align: right;\">\n",
              "      <th></th>\n",
              "      <th>0</th>\n",
              "      <th>1</th>\n",
              "    </tr>\n",
              "  </thead>\n",
              "  <tbody>\n",
              "    <tr>\n",
              "      <th>0</th>\n",
              "      <td>1894</td>\n",
              "      <td>495</td>\n",
              "    </tr>\n",
              "    <tr>\n",
              "      <th>1</th>\n",
              "      <td>118</td>\n",
              "      <td>493</td>\n",
              "    </tr>\n",
              "  </tbody>\n",
              "</table>\n",
              "</div>"
            ],
            "text/plain": [
              "      0    1\n",
              "0  1894  495\n",
              "1   118  493"
            ]
          },
          "metadata": {}
        },
        {
          "output_type": "stream",
          "name": "stdout",
          "text": [
            "\n",
            "- accuracy score for our best XGBoost model is 0.782\n",
            "recall score for our best XG Boost model is 0.807\n",
            "precision score for our best XGBoost model is 0.499\n"
          ]
        }
      ]
    },
    {
      "cell_type": "markdown",
      "metadata": {
        "id": "aPyxL14R9AFz"
      },
      "source": [
        "# Summary"
      ]
    },
    {
      "cell_type": "code",
      "metadata": {
        "id": "E1-lie5PQaQu",
        "colab": {
          "base_uri": "https://localhost:8080/",
          "height": 221
        },
        "outputId": "0ea5967d-4c4f-4783-9897-979486586d69"
      },
      "source": [
        "# summary tables\n",
        "summary_table = pd.DataFrame({'model':['Logistic Regression','KNN','SVM','Random Forest','XGBoost'],\n",
        "                              'accuracy':[log_accuracy_score,KNN_accuracy_score,SVM_accuracy_score,RF_accuracy_score,XGB_accuracy_score],\n",
        "                          'recall':[log_recall_score,KNN_recall_score,SVM_recall_score,RF_recall_score,XGB_recall_score],\n",
        "                          'precision':[log_precision_score,KNN_precision_score,SVM_precision_score,RF_precision_score,XGB_precision_score]})\n",
        "print(\"summary table\")\n",
        "summary_table"
      ],
      "execution_count": 72,
      "outputs": [
        {
          "output_type": "stream",
          "name": "stdout",
          "text": [
            "summary table\n"
          ]
        },
        {
          "output_type": "execute_result",
          "data": {
            "text/html": [
              "<div>\n",
              "<style scoped>\n",
              "    .dataframe tbody tr th:only-of-type {\n",
              "        vertical-align: middle;\n",
              "    }\n",
              "\n",
              "    .dataframe tbody tr th {\n",
              "        vertical-align: top;\n",
              "    }\n",
              "\n",
              "    .dataframe thead th {\n",
              "        text-align: right;\n",
              "    }\n",
              "</style>\n",
              "<table border=\"1\" class=\"dataframe\">\n",
              "  <thead>\n",
              "    <tr style=\"text-align: right;\">\n",
              "      <th></th>\n",
              "      <th>model</th>\n",
              "      <th>accuracy</th>\n",
              "      <th>recall</th>\n",
              "      <th>precision</th>\n",
              "    </tr>\n",
              "  </thead>\n",
              "  <tbody>\n",
              "    <tr>\n",
              "      <th>0</th>\n",
              "      <td>Logistic Regression</td>\n",
              "      <td>0.718667</td>\n",
              "      <td>0.720131</td>\n",
              "      <td>0.395328</td>\n",
              "    </tr>\n",
              "    <tr>\n",
              "      <th>1</th>\n",
              "      <td>KNN</td>\n",
              "      <td>0.720333</td>\n",
              "      <td>0.695581</td>\n",
              "      <td>0.394249</td>\n",
              "    </tr>\n",
              "    <tr>\n",
              "      <th>2</th>\n",
              "      <td>SVM</td>\n",
              "      <td>0.782333</td>\n",
              "      <td>0.756137</td>\n",
              "      <td>0.478261</td>\n",
              "    </tr>\n",
              "    <tr>\n",
              "      <th>3</th>\n",
              "      <td>Random Forest</td>\n",
              "      <td>0.793667</td>\n",
              "      <td>0.759411</td>\n",
              "      <td>0.495726</td>\n",
              "    </tr>\n",
              "    <tr>\n",
              "      <th>4</th>\n",
              "      <td>XGBoost</td>\n",
              "      <td>0.795667</td>\n",
              "      <td>0.806874</td>\n",
              "      <td>0.498988</td>\n",
              "    </tr>\n",
              "  </tbody>\n",
              "</table>\n",
              "</div>"
            ],
            "text/plain": [
              "                 model  accuracy    recall  precision\n",
              "0  Logistic Regression  0.718667  0.720131   0.395328\n",
              "1                  KNN  0.720333  0.695581   0.394249\n",
              "2                  SVM  0.782333  0.756137   0.478261\n",
              "3        Random Forest  0.793667  0.759411   0.495726\n",
              "4              XGBoost  0.795667  0.806874   0.498988"
            ]
          },
          "metadata": {},
          "execution_count": 72
        }
      ]
    },
    {
      "cell_type": "code",
      "metadata": {
        "colab": {
          "base_uri": "https://localhost:8080/",
          "height": 279
        },
        "id": "L23UWFCRetLE",
        "outputId": "3e1575da-01db-4e76-9c79-84d6097cd61e"
      },
      "source": [
        "plt.figure()\n",
        "sns.scatterplot(data = summary_table,x='recall',y='precision', hue='model', legend=False)\n",
        "\n",
        "\n",
        "# adding annotations in the scatterplot\n",
        "for i in range(0,summary_table.shape[0]):\n",
        "     plt.text(summary_table.recall[i]+0.002, summary_table.precision[i], summary_table.model[i],\n",
        "              horizontalalignment='left', size='small', color='black', weight='semibold')"
      ],
      "execution_count": 75,
      "outputs": [
        {
          "output_type": "display_data",
          "data": {
            "image/png": "[encoded data removed]",
            "text/plain": [
              "<Figure size 432x288 with 1 Axes>"
            ]
          },
          "metadata": {
            "needs_background": "light"
          }
        }
      ]
    },
    {
      "cell_type": "markdown",
      "metadata": {
        "id": "ouVWP5alH8UW"
      },
      "source": [
        "the XGBoost is the model that has the best recall score moreover it has also the best precision score and best overall accuracy."
      ]
    },
    {
      "cell_type": "markdown",
      "metadata": {
        "id": "WM_ONWqIlYPW"
      },
      "source": [
        "ROC AUC"
      ]
    },
    {
      "cell_type": "markdown",
      "metadata": {
        "id": "sabZkrOPlIrB"
      },
      "source": [
        "The Area Under the ROC Curve is a good general summary statistic of the predictiveness of a classifier. A value of 0.5 corresponds to randomness, meaning that the classifier cannot distinguish at all between positives and negatives and a value of one means that it is perfect in distinguishing them. Let's see what we get with our models."
      ]
    },
    {
      "cell_type": "code",
      "metadata": {
        "colab": {
          "base_uri": "https://localhost:8080/",
          "height": 1000
        },
        "id": "AUyADnmAlW2X",
        "outputId": "dec73e54-95ac-409f-f1d6-d5de881aebd5"
      },
      "source": [
        "# calculating and plotting the AUC\n",
        "from sklearn.metrics import plot_roc_curve\n",
        "\n",
        "estimators = {'log':fittedgrid_log.best_estimator_,'KNN':fittedgrid_KNN.best_estimator_,'SVM':fittedgrid_SVM.best_estimator_,\n",
        "              'RF':fittedgrid_RF.best_estimator_,'XGB':fittedgrid_XGB.best_estimator_}\n",
        "\n",
        "for estimator in estimators:\n",
        "  plot_roc_curve(estimators[estimator],X_test,y_test,name= 'AUC for '+estimator)"
      ],
      "execution_count": 74,
      "outputs": [
        {
          "output_type": "stream",
          "name": "stderr",
          "text": [
            "/usr/local/lib/python3.7/dist-packages/sklearn/utils/deprecation.py:87: FutureWarning: Function plot_roc_curve is deprecated; Function `plot_roc_curve` is deprecated in 1.0 and will be removed in 1.2. Use one of the class methods: RocCurveDisplay.from_predictions or RocCurveDisplay.from_estimator.\n",
            "  warnings.warn(msg, category=FutureWarning)\n",
            "/usr/local/lib/python3.7/dist-packages/sklearn/utils/deprecation.py:87: FutureWarning: Function plot_roc_curve is deprecated; Function `plot_roc_curve` is deprecated in 1.0 and will be removed in 1.2. Use one of the class methods: RocCurveDisplay.from_predictions or RocCurveDisplay.from_estimator.\n",
            "  warnings.warn(msg, category=FutureWarning)\n",
            "/usr/local/lib/python3.7/dist-packages/sklearn/utils/deprecation.py:87: FutureWarning: Function plot_roc_curve is deprecated; Function `plot_roc_curve` is deprecated in 1.0 and will be removed in 1.2. Use one of the class methods: RocCurveDisplay.from_predictions or RocCurveDisplay.from_estimator.\n",
            "  warnings.warn(msg, category=FutureWarning)\n",
            "/usr/local/lib/python3.7/dist-packages/sklearn/utils/deprecation.py:87: FutureWarning: Function plot_roc_curve is deprecated; Function `plot_roc_curve` is deprecated in 1.0 and will be removed in 1.2. Use one of the class methods: RocCurveDisplay.from_predictions or RocCurveDisplay.from_estimator.\n",
            "  warnings.warn(msg, category=FutureWarning)\n",
            "/usr/local/lib/python3.7/dist-packages/sklearn/utils/deprecation.py:87: FutureWarning: Function plot_roc_curve is deprecated; Function `plot_roc_curve` is deprecated in 1.0 and will be removed in 1.2. Use one of the class methods: RocCurveDisplay.from_predictions or RocCurveDisplay.from_estimator.\n",
            "  warnings.warn(msg, category=FutureWarning)\n",
            "/usr/local/lib/python3.7/dist-packages/sklearn/base.py:439: UserWarning: X has feature names, but StandardScaler was fitted without feature names\n",
            "  f\"X has feature names, but {self.__class__.__name__} was fitted without\"\n"
          ]
        },
        {
          "output_type": "display_data",
          "data": {
            "image/png": "[encoded data removed]",
            "text/plain": [
              "<Figure size 432x288 with 1 Axes>"
            ]
          },
          "metadata": {
            "needs_background": "light"
          }
        },
        {
          "output_type": "display_data",
          "data": {
            "image/png": "[encoded data removed]",
            "text/plain": [
              "<Figure size 432x288 with 1 Axes>"
            ]
          },
          "metadata": {
            "needs_background": "light"
          }
        },
        {
          "output_type": "display_data",
          "data": {
            "image/png": "[encoded data removed]",
            "text/plain": [
              "<Figure size 432x288 with 1 Axes>"
            ]
          },
          "metadata": {
            "needs_background": "light"
          }
        },
        {
          "output_type": "display_data",
          "data": {
            "image/png": "[encoded data removed]",
            "text/plain": [
              "<Figure size 432x288 with 1 Axes>"
            ]
          },
          "metadata": {
            "needs_background": "light"
          }
        },
        {
          "output_type": "display_data",
          "data": {
            "image/png": "[encoded data removed]",
            "text/plain": [
              "<Figure size 432x288 with 1 Axes>"
            ]
          },
          "metadata": {
            "needs_background": "light"
          }
        }
      ]
    },
    {
      "cell_type": "markdown",
      "metadata": {
        "id": "9PuiElpivvrY"
      },
      "source": [
        "XGBoost has the best AUC which confirms our previous conclusion"
      ]
    },
    {
      "cell_type": "code",
      "metadata": {
        "id": "n7q1ElmdLYwQ"
      },
      "source": [
        ""
      ],
      "execution_count": null,
      "outputs": []
    }
  ]
}
